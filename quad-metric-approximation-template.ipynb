{
 "cells": [
  {
   "cell_type": "markdown",
   "id": "f786a078",
   "metadata": {},
   "source": [
    "# Learning a quadratic pseudo-metric from distance measurements\n",
    "\n",
    "Recall that pseudo-metric is a generalization of a metric space in which the distance between two distinct points can be zero.\n",
    "We are given a set of $N$ pairs of points in $\\mathbf{R}^n$, $x_1, \\ldots, x_N$, and $y_1, \\ldots, y_N$, together with a set of distances $d_1, \\ldots, d_N > 0$.\n",
    "  The goal is to find (or estimate or learn) a quadratic pseudo-metric $d$\n",
    "  $$d(x,y) =  \\left( (x-y)^T P(x-y) \\right)^{1/2},$$\n",
    "  $P\\in \\mathbf{S}^n_{+}$, which approximates the given distances, i.e., $d(x_i, y_i) \\approx d_i$. (The pseudo-metric $d$ is a metric only when $P \\succ 0$; when $P\\succeq 0$ is singular, it is a pseudo-metric.)\n",
    "  \n",
    "  To do this, we will choose $P\\in \\mathbf{S}^n_+$ that minimizes the mean squared error objective\n",
    "  \n",
    "  $$f(S)=\\frac{1}{N}\\sum_{i=1}^N (d_i - d(x_i,y_i))^2.$$\n",
    "  \n",
    "  ### Theoretical part.\n",
    "  1. Show that the objective function $f$ is convex (Hint: expand the square and see what happens.)\n",
    "  2. Show that the convex program $\\text{minimize }f(S)$, $S\\succeq 0$ can be expressed by an equivalent conic program with linear objective and a number of conic constraints using the $R^n_+$ (nonnegative orthant cone), $Q^n$ (second order cone), $Q_r^n$ (rotated second order cone), $S^n_+$ (positive semidefinite cone).\n",
    "  \n",
    "  ### Programming Part\n",
    "  1. Solve the program $\\text{minimize }f(S)$, $S\\succeq 0$, preferably using a modelling package like ``cvxpy``. Note that \"under the hood\" your modelling package translates the program to the conic form in point 2. above.\n",
    "  2. Use the obtained $P$ to measure the mean square error for the test data ``X_test``, ``Y_test``, ``d_test``.\n",
    "  \n",
    "---- \n",
    "*This exercise originates from \"Additional Exercises\" collection for Convex Optimization textbook of S. Boyd and L. Vandenberghe. Used under permission*"
   ]
  },
  {
   "cell_type": "code",
   "execution_count": 2,
   "id": "cf8da0bc",
   "metadata": {},
   "outputs": [],
   "source": [
    "import cvxpy as cp\n",
    "import numpy as np\n",
    "from scipy import linalg as la"
   ]
  },
  {
   "cell_type": "markdown",
   "id": "b7b8b071",
   "metadata": {},
   "source": [
    "1. As the sum of convex functions is convexits sufficient to show that the $(d_i - \\sqrt{(x_i-y_i)^T P (x_i - y_i)})^2$ is convex. We can see that $\\sqrt{(x_i-y_i)^T P (x_i - y_i)}$ is concave, as it is a composition of concave sqrt function and an affine function $(x_i-y_i)^T P (x_i - y_i)$ thus $d_i - \\sqrt{(x_i-y_i)^T P (x_i - y_i)}$ is convex so $(d_i - \\sqrt{(x_i-y_i)^T P (x_i - y_i)})^2$ is also convex as a square of a convex function.\n",
    "So $f(P)$ is convex as a sum of convex functions.\n"
   ]
  },
  {
   "cell_type": "markdown",
   "id": "1c60202a",
   "metadata": {},
   "source": [
    "2. To express the convex program $min f(P)$ subject to $P \\succeq 0$  as a conic program with a linear objective we can introduce a new variable $t \\geq 0$ such that: \\newline\n",
    "$d_i - t_i \\geq \\sqrt{(x_i-y_i)^T P (x_i - y_i)}$ \\newline\n",
    "$t_i \\geq 0$ \\newline\n",
    "The term $\\sqrt{(x_i-y_i)^T P (x_i - y_i)}$ is the Euclidean norm of $P^{\\frac{1}{2}} (x_i - y_i)$ so it can be written as $||P^{\\frac{1}{2}} (x_i - y_i)||_2$, so we can reframe the first constraint as \n",
    "$||P^{\\frac{1}{2}} (x_i - y_i)||_2 \\leq d_i - t_i$, thus the problem becomes:\\newline\n",
    "$min \\sum^N_{i = 1} t_i$ \\newline\n",
    "subject to:\\newline\n",
    "$\\forall_i ||P^{\\frac{1}{2}} (x_i - y_i)||_2 \\leq d_i - t_i$ \\newline\n",
    "$t \\geq 0$\\newline\n",
    "$P \\succeq 0$ \\newline\n",
    "So our problem can be expressed as a conic program with linear objective $QED$."
   ]
  },
  {
   "cell_type": "code",
   "execution_count": 3,
   "id": "e0d2b41f",
   "metadata": {},
   "outputs": [
    {
     "name": "stdout",
     "output_type": "stream",
     "text": [
      "Optimal S: [[0. 0. 0. 0. 0.]\n",
      " [0. 0. 0. 0. 0.]\n",
      " [0. 0. 0. 0. 0.]\n",
      " [0. 0. 0. 0. 0.]\n",
      " [0. 0. 0. 0. 0.]]\n",
      "MSE on test set: 0.7802951274920111\n"
     ]
    }
   ],
   "source": [
    "# In this box we generate the input data\n",
    "\n",
    "np.random.seed(5680)\n",
    "\n",
    "n = 5 # Dimension\n",
    "N = 100 # Number of samples\n",
    "\n",
    "P = np.random.randn(n,n)\n",
    "P = P.dot(P.T) + np.identity(n)\n",
    "sqrtP = la.sqrtm(P)\n",
    "\n",
    "x = np.random.randn(N,n)\n",
    "y = np.random.randn(N,n)\n",
    "\n",
    "d = np.linalg.norm(sqrtP.dot((x-y).T),axis=0)    # distances according to metric P\n",
    "d = np.maximum(d+np.random.randn(N),0)           # add random noise\n",
    "\n",
    "N_test = 10 # Samples for test set\n",
    "X_test = np.random.randn(N_test,n)\n",
    "Y_test = np.random.randn(N_test,n)\n",
    "d_test = np.linalg.norm(sqrtP.dot((X_test-Y_test).T),axis=0)  # distances according to metric P\n",
    "d_test = np.maximum(d_test+np.random.randn(N_test),0)         # add random noise\n",
    "\n",
    "S = cp.Variable((n,n), PSD=True)\n",
    "t = cp.Variable(N)\n",
    "\n",
    "objective = cp.Minimize(cp.sum(t))\n",
    "\n",
    "# Constraints\n",
    "constraints = []\n",
    "for i in range(N):\n",
    "    z_i = x[i] - y[i]\n",
    "    constraints += [\n",
    "        cp.SOC(d[i] - t[i], S @ z_i),\n",
    "        t[i] >= 0\n",
    "    ]\n",
    "\n",
    "problem = cp.Problem(objective, constraints)\n",
    "problem.solve()\n",
    "\n",
    "\n",
    "S_opt = S.value\n",
    "print(\"Optimal S:\", S_opt)\n",
    "\n",
    "mse = np.mean((d_test - np.linalg.norm(sqrtP.dot((X_test-Y_test).T),axis=0))**2)\n",
    "\n",
    "print(\"MSE on test set:\", mse)\n",
    "\n",
    "\n",
    "\n",
    "\n",
    "\n",
    "\n",
    "\n",
    "\n",
    "\n"
   ]
  }
 ],
 "metadata": {
  "kernelspec": {
   "display_name": "Python 3 (ipykernel)",
   "language": "python",
   "name": "python3"
  },
  "language_info": {
   "codemirror_mode": {
    "name": "ipython",
    "version": 3
   },
   "file_extension": ".py",
   "mimetype": "text/x-python",
   "name": "python",
   "nbconvert_exporter": "python",
   "pygments_lexer": "ipython3",
   "version": "3.8.10"
  }
 },
 "nbformat": 4,
 "nbformat_minor": 5
}
